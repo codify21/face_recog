{
 "cells": [
  {
   "cell_type": "code",
   "execution_count": 1,
   "id": "accessible-queen",
   "metadata": {},
   "outputs": [],
   "source": [
    "import numpy as np\n",
    "import pandas as pd\n",
    "import matplotlib.pyplot as plt\n",
    "import cv2\n",
    "from PIL import Image\n",
    "%matplotlib inline\n",
    "\n",
    "from glob import glob"
   ]
  },
  {
   "cell_type": "code",
   "execution_count": 2,
   "id": "sharp-minutes",
   "metadata": {},
   "outputs": [
    {
     "data": {
      "text/plain": [
       "<numpy.lib.npyio.NpzFile at 0x7f8cba45e7c0>"
      ]
     },
     "execution_count": 2,
     "metadata": {},
     "output_type": "execute_result"
    }
   ],
   "source": [
    "#Loading numpy zip\n",
    "data =np.load('model/data_100_100_norm.npz')\n",
    "data"
   ]
  },
  {
   "cell_type": "code",
   "execution_count": 3,
   "id": "standard-dinner",
   "metadata": {},
   "outputs": [
    {
     "data": {
      "text/plain": [
       "['arr_0', 'arr_1']"
      ]
     },
     "execution_count": 3,
     "metadata": {},
     "output_type": "execute_result"
    }
   ],
   "source": [
    "data.files"
   ]
  },
  {
   "cell_type": "code",
   "execution_count": 4,
   "id": "strategic-bridal",
   "metadata": {},
   "outputs": [
    {
     "data": {
      "text/plain": [
       "((5456, 10000), (5456,))"
      ]
     },
     "execution_count": 4,
     "metadata": {},
     "output_type": "execute_result"
    }
   ],
   "source": [
    "x = data['arr_0']#independent feature\n",
    "y=data['arr_1']#dependent feature\n",
    "x.shape,y.shape"
   ]
  },
  {
   "cell_type": "markdown",
   "id": "celtic-valuable",
   "metadata": {},
   "source": [
    "# Eigen Image :\n",
    "#### If you use PCA to reduce dimensions such images are called eigen images"
   ]
  },
  {
   "cell_type": "code",
   "execution_count": 5,
   "id": "vietnamese-coral",
   "metadata": {},
   "outputs": [],
   "source": [
    "x1 = x-x.mean(axis=0)"
   ]
  },
  {
   "cell_type": "code",
   "execution_count": 6,
   "id": "veterinary-jungle",
   "metadata": {},
   "outputs": [],
   "source": [
    "from sklearn.decomposition import PCA"
   ]
  },
  {
   "cell_type": "code",
   "execution_count": 7,
   "id": "fallen-luxury",
   "metadata": {},
   "outputs": [],
   "source": [
    "pca = PCA(n_components=None,whiten = True)"
   ]
  },
  {
   "cell_type": "code",
   "execution_count": null,
   "id": "significant-reduction",
   "metadata": {},
   "outputs": [],
   "source": [
    "x_pca = pca.fit_transform(x1)"
   ]
  },
  {
   "cell_type": "code",
   "execution_count": null,
   "id": "applicable-starter",
   "metadata": {},
   "outputs": [],
   "source": [
    "x_pca.shape "
   ]
  },
  {
   "cell_type": "code",
   "execution_count": null,
   "id": "twelve-background",
   "metadata": {},
   "outputs": [],
   "source": [
    "eigen_ratio = pca.explained_variance_ratio_\n",
    "\n",
    "eigen_ratio_cum = np.cumsum(eigen_ratio)"
   ]
  },
  {
   "cell_type": "code",
   "execution_count": null,
   "id": "solved-saver",
   "metadata": {},
   "outputs": [],
   "source": [
    "plt.figure(figsize =(10,4))\n",
    "plt.subplot(1,2,1)\n",
    "plt.plot(eigen_ratio[:200],'r>--')\n",
    "plt.xlabel('no. of components')\n",
    "plt.ylabel('Explained variance ratio')\n",
    "plt.subplot(1,2,2)\n",
    "plt.plot(eigen_ratio_cum[:200],'r>--')\n",
    "plt.xlabel('no. of components')\n",
    "plt.ylabel('Cumulative Explained variance ratio')\n",
    "plt.show()\n"
   ]
  },
  {
   "cell_type": "code",
   "execution_count": null,
   "id": "impressive-custody",
   "metadata": {},
   "outputs": [],
   "source": [
    "#using elbow method, consider no. of components  is b/w 25-30\n",
    "#>since i consider component b/w  25 to 30 the explained vasriance is around 75%\n",
    "#In order to get min 80% variance i am considering  50 components"
   ]
  },
  {
   "cell_type": "code",
   "execution_count": null,
   "id": "growing-reaction",
   "metadata": {},
   "outputs": [],
   "source": [
    "pca_50 = PCA(n_components=50,whiten = True)\n",
    "x_pca_50 = pca_50.fit_transform(x1)"
   ]
  },
  {
   "cell_type": "code",
   "execution_count": null,
   "id": "pursuant-processing",
   "metadata": {},
   "outputs": [],
   "source": [
    "x_pca_50.shape"
   ]
  },
  {
   "cell_type": "code",
   "execution_count": null,
   "id": "raising-reliance",
   "metadata": {},
   "outputs": [],
   "source": [
    "import pickle"
   ]
  },
  {
   "cell_type": "code",
   "execution_count": null,
   "id": "supported-territory",
   "metadata": {},
   "outputs": [],
   "source": [
    "pickle.dump(pca_50,open('data/pca_50.pickle','wb'))"
   ]
  },
  {
   "cell_type": "code",
   "execution_count": null,
   "id": "posted-triangle",
   "metadata": {},
   "outputs": [],
   "source": [
    "#consider 50 components and inverse transform it\n",
    "x_pca_inv = pca_50.inverse_transform(x_pca_50)\n",
    "x_pca_inv.shape"
   ]
  },
  {
   "cell_type": "code",
   "execution_count": null,
   "id": "suitable-houston",
   "metadata": {},
   "outputs": [],
   "source": [
    "eig_img = x_pca_inv[25,:]\n",
    "eig_img = eig_img.reshape(100,100)\n",
    "plt.imshow(eig_img,cmap = 'gray')"
   ]
  },
  {
   "cell_type": "code",
   "execution_count": null,
   "id": "bronze-respect",
   "metadata": {},
   "outputs": [],
   "source": [
    "np.savez('model/data_pca_50_y_mean_.pickle',x_pca_50,y,x.mean(axis=0))"
   ]
  },
  {
   "cell_type": "code",
   "execution_count": null,
   "id": "designing-practice",
   "metadata": {},
   "outputs": [],
   "source": []
  }
 ],
 "metadata": {
  "kernelspec": {
   "display_name": "Python 3",
   "language": "python",
   "name": "python3"
  },
  "language_info": {
   "codemirror_mode": {
    "name": "ipython",
    "version": 3
   },
   "file_extension": ".py",
   "mimetype": "text/x-python",
   "name": "python",
   "nbconvert_exporter": "python",
   "pygments_lexer": "ipython3",
   "version": "3.8.5"
  }
 },
 "nbformat": 4,
 "nbformat_minor": 5
}
